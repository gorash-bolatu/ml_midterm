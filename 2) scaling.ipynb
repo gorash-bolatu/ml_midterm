{
 "cells": [
  {
   "cell_type": "code",
   "execution_count": 1,
   "id": "02c0bf14",
   "metadata": {},
   "outputs": [
    {
     "name": "stdout",
     "output_type": "stream",
     "text": [
      "<class 'pandas.core.frame.DataFrame'>\n",
      "RangeIndex: 217509 entries, 0 to 217508\n",
      "Data columns (total 11 columns):\n",
      " #   Column                       Non-Null Count   Dtype  \n",
      "---  ------                       --------------   -----  \n",
      " 0   DeviceName                   217509 non-null  object \n",
      " 1   tcp.port                     217509 non-null  float64\n",
      " 2   eth.dst_oui                  217509 non-null  float64\n",
      " 3   tcp.options_timestamp_tsval  217509 non-null  float64\n",
      " 4   tcp.srcport                  217509 non-null  float64\n",
      " 5   tcp.options_timestamp_tsecr  217509 non-null  float64\n",
      " 6   tcp.dstport                  217509 non-null  float64\n",
      " 7   eth.stream                   217509 non-null  float64\n",
      " 8   tcp.seq_raw                  217509 non-null  float64\n",
      " 9   tcp.window_size              217509 non-null  float64\n",
      " 10  tcp.window_size_value        217509 non-null  float64\n",
      "dtypes: float64(10), object(1)\n",
      "memory usage: 18.3+ MB\n",
      "None\n"
     ]
    }
   ],
   "source": [
    "import pandas as pd\n",
    "\n",
    "# Load the dataset\n",
    "df = pd.read_csv('PROCESSED.csv')\n",
    "print(df.info())"
   ]
  },
  {
   "cell_type": "code",
   "execution_count": 2,
   "id": "03161054",
   "metadata": {},
   "outputs": [
    {
     "data": {
      "text/html": [
       "<div>\n",
       "<style scoped>\n",
       "    .dataframe tbody tr th:only-of-type {\n",
       "        vertical-align: middle;\n",
       "    }\n",
       "\n",
       "    .dataframe tbody tr th {\n",
       "        vertical-align: top;\n",
       "    }\n",
       "\n",
       "    .dataframe thead th {\n",
       "        text-align: right;\n",
       "    }\n",
       "</style>\n",
       "<table border=\"1\" class=\"dataframe\">\n",
       "  <thead>\n",
       "    <tr style=\"text-align: right;\">\n",
       "      <th></th>\n",
       "      <th>tcp.port</th>\n",
       "      <th>eth.dst_oui</th>\n",
       "      <th>tcp.options_timestamp_tsval</th>\n",
       "      <th>tcp.srcport</th>\n",
       "      <th>tcp.options_timestamp_tsecr</th>\n",
       "      <th>tcp.dstport</th>\n",
       "      <th>eth.stream</th>\n",
       "      <th>tcp.seq_raw</th>\n",
       "      <th>tcp.window_size</th>\n",
       "      <th>tcp.window_size_value</th>\n",
       "    </tr>\n",
       "  </thead>\n",
       "  <tbody>\n",
       "    <tr>\n",
       "      <th>0</th>\n",
       "      <td>0.955485</td>\n",
       "      <td>-0.446687</td>\n",
       "      <td>-1.006126</td>\n",
       "      <td>0.955485</td>\n",
       "      <td>1.636748e+00</td>\n",
       "      <td>-1.049240e+00</td>\n",
       "      <td>-0.478796</td>\n",
       "      <td>-9.518787e-01</td>\n",
       "      <td>-0.340356</td>\n",
       "      <td>-1.629255e-01</td>\n",
       "    </tr>\n",
       "    <tr>\n",
       "      <th>1</th>\n",
       "      <td>-1.098122</td>\n",
       "      <td>0.023567</td>\n",
       "      <td>1.645411</td>\n",
       "      <td>-1.098122</td>\n",
       "      <td>-1.019906e+00</td>\n",
       "      <td>1.022841e+00</td>\n",
       "      <td>-0.478796</td>\n",
       "      <td>-5.027062e-01</td>\n",
       "      <td>-0.411593</td>\n",
       "      <td>-3.711421e-01</td>\n",
       "    </tr>\n",
       "    <tr>\n",
       "      <th>2</th>\n",
       "      <td>0.955485</td>\n",
       "      <td>-0.446687</td>\n",
       "      <td>-1.006126</td>\n",
       "      <td>0.955485</td>\n",
       "      <td>1.636748e+00</td>\n",
       "      <td>-1.049240e+00</td>\n",
       "      <td>-0.478796</td>\n",
       "      <td>-9.518787e-01</td>\n",
       "      <td>-0.340356</td>\n",
       "      <td>-1.629255e-01</td>\n",
       "    </tr>\n",
       "    <tr>\n",
       "      <th>3</th>\n",
       "      <td>0.955485</td>\n",
       "      <td>-0.446687</td>\n",
       "      <td>-1.006126</td>\n",
       "      <td>0.955485</td>\n",
       "      <td>1.636748e+00</td>\n",
       "      <td>-1.049240e+00</td>\n",
       "      <td>-0.478796</td>\n",
       "      <td>-9.518784e-01</td>\n",
       "      <td>-0.340356</td>\n",
       "      <td>-1.629255e-01</td>\n",
       "    </tr>\n",
       "    <tr>\n",
       "      <th>4</th>\n",
       "      <td>0.000000</td>\n",
       "      <td>2.730754</td>\n",
       "      <td>0.000000</td>\n",
       "      <td>0.000000</td>\n",
       "      <td>1.573181e-16</td>\n",
       "      <td>-1.869405e-16</td>\n",
       "      <td>-0.388224</td>\n",
       "      <td>-1.819182e-16</td>\n",
       "      <td>0.000000</td>\n",
       "      <td>-1.658248e-16</td>\n",
       "    </tr>\n",
       "  </tbody>\n",
       "</table>\n",
       "</div>"
      ],
      "text/plain": [
       "   tcp.port  eth.dst_oui  tcp.options_timestamp_tsval  tcp.srcport  \\\n",
       "0  0.955485    -0.446687                    -1.006126     0.955485   \n",
       "1 -1.098122     0.023567                     1.645411    -1.098122   \n",
       "2  0.955485    -0.446687                    -1.006126     0.955485   \n",
       "3  0.955485    -0.446687                    -1.006126     0.955485   \n",
       "4  0.000000     2.730754                     0.000000     0.000000   \n",
       "\n",
       "   tcp.options_timestamp_tsecr   tcp.dstport  eth.stream   tcp.seq_raw  \\\n",
       "0                 1.636748e+00 -1.049240e+00   -0.478796 -9.518787e-01   \n",
       "1                -1.019906e+00  1.022841e+00   -0.478796 -5.027062e-01   \n",
       "2                 1.636748e+00 -1.049240e+00   -0.478796 -9.518787e-01   \n",
       "3                 1.636748e+00 -1.049240e+00   -0.478796 -9.518784e-01   \n",
       "4                 1.573181e-16 -1.869405e-16   -0.388224 -1.819182e-16   \n",
       "\n",
       "   tcp.window_size  tcp.window_size_value  \n",
       "0        -0.340356          -1.629255e-01  \n",
       "1        -0.411593          -3.711421e-01  \n",
       "2        -0.340356          -1.629255e-01  \n",
       "3        -0.340356          -1.629255e-01  \n",
       "4         0.000000          -1.658248e-16  "
      ]
     },
     "execution_count": 2,
     "metadata": {},
     "output_type": "execute_result"
    }
   ],
   "source": [
    "# Feature scaling for numerical columns\n",
    "from sklearn.preprocessing import StandardScaler\n",
    "\n",
    "scaler = StandardScaler()\n",
    "numerical_cols = df.select_dtypes(include=['float64', 'int64']).columns\n",
    "df[numerical_cols] = scaler.fit_transform(df[numerical_cols])\n",
    "df[numerical_cols].head()"
   ]
  },
  {
   "cell_type": "code",
   "execution_count": 3,
   "id": "eed6cd20",
   "metadata": {},
   "outputs": [
    {
     "name": "stdout",
     "output_type": "stream",
     "text": [
      "Wrote 217509 rows and 11 columns to PROCESSED_SCALED.csv\n"
     ]
    }
   ],
   "source": [
    "df_out = df\n",
    "filename = 'PROCESSED_SCALED.csv'\n",
    "df_out.to_csv(filename, index=False)\n",
    "print(\"Wrote\", df_out.shape[0], \"rows and\", df_out.shape[1], \"columns to\", filename)"
   ]
  }
 ],
 "metadata": {
  "kernelspec": {
   "display_name": "Python 3",
   "language": "python",
   "name": "python3"
  },
  "language_info": {
   "codemirror_mode": {
    "name": "ipython",
    "version": 3
   },
   "file_extension": ".py",
   "mimetype": "text/x-python",
   "name": "python",
   "nbconvert_exporter": "python",
   "pygments_lexer": "ipython3",
   "version": "3.9.0"
  }
 },
 "nbformat": 4,
 "nbformat_minor": 5
}
